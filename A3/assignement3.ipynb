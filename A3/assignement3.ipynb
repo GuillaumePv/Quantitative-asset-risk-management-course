{
 "metadata": {
  "language_info": {
   "codemirror_mode": {
    "name": "ipython",
    "version": 3
   },
   "file_extension": ".py",
   "mimetype": "text/x-python",
   "name": "python",
   "nbconvert_exporter": "python",
   "pygments_lexer": "ipython3",
   "version": "3.8.1"
  },
  "orig_nbformat": 2,
  "kernelspec": {
   "name": "python381jvsc74a57bd0082e9a3bcad0a290d0001e938aa60b99250c6c2ef33a923c00b70f9826caf4b7",
   "display_name": "Python 3.8.1 64-bit ('3.8')"
  },
  "metadata": {
   "interpreter": {
    "hash": "082e9a3bcad0a290d0001e938aa60b99250c6c2ef33a923c00b70f9826caf4b7"
   }
  }
 },
 "nbformat": 4,
 "nbformat_minor": 2,
 "cells": [
  {
   "cell_type": "code",
   "execution_count": 123,
   "metadata": {
    "tags": []
   },
   "outputs": [],
   "source": [
    "from Assignment3_part1 import *\n",
    "from tqdm import tqdm\n",
    "from scipy.stats import norm"
   ]
  },
  {
   "source": [
    "## Variables qui nous intéressent\n",
    "\n",
    "* SAA_weights_IS\n",
    "* SAA_weights_OS\n",
    "* TAA_weights_IS\n",
    "* TAA_weights_OS\n",
    "* weight_target_IS\n",
    "* weight_target_OS\n",
    "* benchmark_weights_IS\n",
    "* benchmark_weights_OS\n",
    "\n",
    "### Benchmark (50% Equities / 50% Bond)\n",
    "\n",
    "### Return\n",
    "\n",
    "* returns_IS_price\n",
    "* returns_OS_price"
   ],
   "cell_type": "markdown",
   "metadata": {}
  },
  {
   "cell_type": "code",
   "execution_count": 124,
   "metadata": {},
   "outputs": [],
   "source": [
    "# SAA\n",
    "SAA_active_weight_IS = SAA_weights_IS - benchmark_weights_IS\n",
    "SAA_active_weight_OS = SAA_weights_OS - benchmark_weights_OS\n",
    "\n",
    "# TAA\n",
    "TAA_active_weight_IS = TAA_weights_IS - benchmark_weights_IS\n",
    "TAA_active_weight_OS = TAA_weights_OS - benchmark_weights_OS\n",
    "\n",
    "# Real portfolio\n",
    "active_weight_target_IS = weight_target_IS - benchmark_weights_IS\n",
    "active_weight_target_OS = weight_target_OS - benchmark_weights_OS"
   ]
  },
  {
   "source": [
    "# Question 1"
   ],
   "cell_type": "markdown",
   "metadata": {}
  },
  {
   "cell_type": "code",
   "execution_count": 125,
   "metadata": {},
   "outputs": [],
   "source": [
    "MCR_SAA_active_IS = MCR_calc(SAA_active_weight_IS,returns_IS_price)\n",
    "\n",
    "MCR_TAA_active_IS = MCR_calc(TAA_active_weight_IS,returns_IS_price)\n",
    "\n",
    "MCR_real_IS = MCR_calc(active_weight_target_IS,returns_IS_price)"
   ]
  },
  {
   "cell_type": "code",
   "execution_count": 126,
   "metadata": {
    "tags": []
   },
   "outputs": [
    {
     "output_type": "stream",
     "name": "stderr",
     "text": [
      "100%|██████████| 124/124 [00:03<00:00, 35.42it/s]\n"
     ]
    }
   ],
   "source": [
    "# SAA\n",
    "MCR_SAA = []\n",
    "MCR_SAA_final = []\n",
    "MCR_TAA = []\n",
    "MCR_TAA_final = []\n",
    "MCR_real = []\n",
    "MCR_real_final = []\n",
    "\n",
    "SAA_rolling = SAA_active_weight_IS.copy()\n",
    "TAA_rolling = TAA_active_weight_IS.copy()\n",
    "Real_rolling = weight_target_IS.copy()\n",
    "return_rolling = returns_IS_price.copy()\n",
    "for i in tqdm(range(len(SAA_active_weight_OS))):\n",
    "    SAA_rolling = SAA_rolling.append(SAA_active_weight_OS.iloc[i,:])\n",
    "    TAA_rolling = TAA_rolling.append(TAA_active_weight_OS.iloc[i,:])\n",
    "    Real_rolling = Real_rolling.append(active_weight_target_OS.iloc[i,:])\n",
    "\n",
    "    return_rolling = return_rolling.append(returns_OS_price.iloc[i,:])\n",
    "    MCR_SAA.append(MCR_calc(SAA_rolling,return_rolling))\n",
    "    MCR_TAA.append(MCR_calc(TAA_rolling,return_rolling))\n",
    "    MCR_real.append(MCR_calc(Real_rolling,return_rolling))\n",
    "    #print(MCR_SAA[-1])\n",
    "    MCR_SAA_final.append(MCR_SAA[-1].iloc[:,-1])\n",
    "    MCR_TAA_final.append(MCR_TAA[-1].iloc[:,-1])\n",
    "    MCR_real_final.append(MCR_real[-1].iloc[:,-1])\n",
    "    \n",
    "SAA_MCR = pd.DataFrame(MCR_SAA_final[:])\n",
    "TAA_MCR = pd.DataFrame(MCR_TAA_final[:])\n",
    "real_MCR = pd.DataFrame(MCR_real_final[:])"
   ]
  },
  {
   "cell_type": "code",
   "execution_count": 127,
   "metadata": {},
   "outputs": [
    {
     "output_type": "execute_result",
     "data": {
      "text/plain": [
       "                   0         1         2         3         4         5  \\\n",
       "2011-01-31 -0.049001  0.003644 -0.002335 -0.020048  0.000907 -0.020199   \n",
       "2011-02-28 -0.048889  0.003645 -0.002330 -0.019966  0.000674 -0.020027   \n",
       "2011-03-31 -0.048703  0.003623 -0.002327 -0.019887  0.000673 -0.019851   \n",
       "2011-04-29 -0.048626  0.003587 -0.002370 -0.019817  0.000301 -0.020036   \n",
       "2011-05-31 -0.048485  0.003592 -0.002321 -0.019724  0.000164 -0.020245   \n",
       "...              ...       ...       ...       ...       ...       ...   \n",
       "2020-12-31 -0.044592  0.003438 -0.002794 -0.017455  0.002136 -0.029934   \n",
       "2021-01-29 -0.044503  0.003428 -0.002793 -0.017419  0.002122 -0.029854   \n",
       "2021-02-26 -0.044412  0.003497 -0.002687 -0.017341  0.002390 -0.030325   \n",
       "2021-03-31 -0.044352  0.003503 -0.002614 -0.017266  0.002459 -0.030123   \n",
       "2021-04-30 -0.044338  0.003501 -0.002630 -0.017222  0.002353 -0.030283   \n",
       "\n",
       "                   6  \n",
       "2011-01-31 -0.040097  \n",
       "2011-02-28 -0.039949  \n",
       "2011-03-31 -0.039844  \n",
       "2011-04-29 -0.039558  \n",
       "2011-05-31 -0.039507  \n",
       "...              ...  \n",
       "2020-12-31 -0.032105  \n",
       "2021-01-29 -0.032039  \n",
       "2021-02-26 -0.032278  \n",
       "2021-03-31 -0.032075  \n",
       "2021-04-30 -0.032247  \n",
       "\n",
       "[124 rows x 7 columns]"
      ],
      "text/html": "<div>\n<style scoped>\n    .dataframe tbody tr th:only-of-type {\n        vertical-align: middle;\n    }\n\n    .dataframe tbody tr th {\n        vertical-align: top;\n    }\n\n    .dataframe thead th {\n        text-align: right;\n    }\n</style>\n<table border=\"1\" class=\"dataframe\">\n  <thead>\n    <tr style=\"text-align: right;\">\n      <th></th>\n      <th>0</th>\n      <th>1</th>\n      <th>2</th>\n      <th>3</th>\n      <th>4</th>\n      <th>5</th>\n      <th>6</th>\n    </tr>\n  </thead>\n  <tbody>\n    <tr>\n      <th>2011-01-31</th>\n      <td>-0.049001</td>\n      <td>0.003644</td>\n      <td>-0.002335</td>\n      <td>-0.020048</td>\n      <td>0.000907</td>\n      <td>-0.020199</td>\n      <td>-0.040097</td>\n    </tr>\n    <tr>\n      <th>2011-02-28</th>\n      <td>-0.048889</td>\n      <td>0.003645</td>\n      <td>-0.002330</td>\n      <td>-0.019966</td>\n      <td>0.000674</td>\n      <td>-0.020027</td>\n      <td>-0.039949</td>\n    </tr>\n    <tr>\n      <th>2011-03-31</th>\n      <td>-0.048703</td>\n      <td>0.003623</td>\n      <td>-0.002327</td>\n      <td>-0.019887</td>\n      <td>0.000673</td>\n      <td>-0.019851</td>\n      <td>-0.039844</td>\n    </tr>\n    <tr>\n      <th>2011-04-29</th>\n      <td>-0.048626</td>\n      <td>0.003587</td>\n      <td>-0.002370</td>\n      <td>-0.019817</td>\n      <td>0.000301</td>\n      <td>-0.020036</td>\n      <td>-0.039558</td>\n    </tr>\n    <tr>\n      <th>2011-05-31</th>\n      <td>-0.048485</td>\n      <td>0.003592</td>\n      <td>-0.002321</td>\n      <td>-0.019724</td>\n      <td>0.000164</td>\n      <td>-0.020245</td>\n      <td>-0.039507</td>\n    </tr>\n    <tr>\n      <th>...</th>\n      <td>...</td>\n      <td>...</td>\n      <td>...</td>\n      <td>...</td>\n      <td>...</td>\n      <td>...</td>\n      <td>...</td>\n    </tr>\n    <tr>\n      <th>2020-12-31</th>\n      <td>-0.044592</td>\n      <td>0.003438</td>\n      <td>-0.002794</td>\n      <td>-0.017455</td>\n      <td>0.002136</td>\n      <td>-0.029934</td>\n      <td>-0.032105</td>\n    </tr>\n    <tr>\n      <th>2021-01-29</th>\n      <td>-0.044503</td>\n      <td>0.003428</td>\n      <td>-0.002793</td>\n      <td>-0.017419</td>\n      <td>0.002122</td>\n      <td>-0.029854</td>\n      <td>-0.032039</td>\n    </tr>\n    <tr>\n      <th>2021-02-26</th>\n      <td>-0.044412</td>\n      <td>0.003497</td>\n      <td>-0.002687</td>\n      <td>-0.017341</td>\n      <td>0.002390</td>\n      <td>-0.030325</td>\n      <td>-0.032278</td>\n    </tr>\n    <tr>\n      <th>2021-03-31</th>\n      <td>-0.044352</td>\n      <td>0.003503</td>\n      <td>-0.002614</td>\n      <td>-0.017266</td>\n      <td>0.002459</td>\n      <td>-0.030123</td>\n      <td>-0.032075</td>\n    </tr>\n    <tr>\n      <th>2021-04-30</th>\n      <td>-0.044338</td>\n      <td>0.003501</td>\n      <td>-0.002630</td>\n      <td>-0.017222</td>\n      <td>0.002353</td>\n      <td>-0.030283</td>\n      <td>-0.032247</td>\n    </tr>\n  </tbody>\n</table>\n<p>124 rows × 7 columns</p>\n</div>"
     },
     "metadata": {},
     "execution_count": 127
    }
   ],
   "source": [
    "SAA_MCR = pd.DataFrame(MCR_SAA_final[:])\n",
    "SAA_MCR"
   ]
  },
  {
   "source": [
    "# Question 2"
   ],
   "cell_type": "markdown",
   "metadata": {}
  },
  {
   "source": [
    "## Variance Covariance method"
   ],
   "cell_type": "markdown",
   "metadata": {}
  },
  {
   "cell_type": "code",
   "execution_count": 128,
   "metadata": {},
   "outputs": [],
   "source": [
    "ptf_return_SAA = np.multiply(SAA_active_weight_OS,returns_OS_price).sum(axis=1)\n",
    "mean_SAA = np.mean(ptf_return_SAA)\n",
    "std_SAA = np.std(ptf_return_SAA)\n",
    "\n",
    "ptf_return_TAA = np.multiply(TAA_active_weight_OS,returns_OS_price).sum(axis=1)\n",
    "mean_TAA = np.mean(ptf_return_TAA)\n",
    "std_TAA = np.std(ptf_return_TAA)\n",
    "\n",
    "ptf_return_Real = np.multiply(active_weight_target_OS,returns_OS_price).sum(axis=1)\n",
    "mean_Real = np.mean(ptf_return_Real)\n",
    "std_Real = np.std(ptf_return_Real)"
   ]
  },
  {
   "source": [
    "## VaR"
   ],
   "cell_type": "markdown",
   "metadata": {}
  },
  {
   "cell_type": "code",
   "execution_count": 129,
   "metadata": {},
   "outputs": [
    {
     "output_type": "stream",
     "name": "stdout",
     "text": [
      "VaR 95% SAA: -0.03292615618768459\nVaR 95% TAA: -0.06868917746927439\nVaR 95% Real: -0.06523311983250694\n"
     ]
    }
   ],
   "source": [
    "VaR_95_SAA = norm.ppf(1-0.95,mean_SAA,std_SAA)\n",
    "print(f'VaR 95% SAA: {VaR_95_SAA}')\n",
    "\n",
    "VaR_95_TAA = norm.ppf(1-0.95,mean_TAA,std_TAA)\n",
    "print(f'VaR 95% TAA: {VaR_95_TAA}')\n",
    "\n",
    "VaR_95_Real = norm.ppf(1-0.95,mean_Real,std_Real)\n",
    "print(f'VaR 95% Real: {VaR_95_Real}')"
   ]
  },
  {
   "source": [
    "## ES"
   ],
   "cell_type": "markdown",
   "metadata": {}
  },
  {
   "cell_type": "code",
   "execution_count": 130,
   "metadata": {},
   "outputs": [
    {
     "output_type": "stream",
     "name": "stdout",
     "text": [
      "ES SAA var 5%: -0.04104471398345727\nES TAA var 5%: -0.08103724005998526\nES Real var 5%: -0.07471464156853269\n"
     ]
    }
   ],
   "source": [
    "ES_var_SAA = ptf_return_SAA[ptf_return_SAA <= VaR_95_SAA].mean()\n",
    "ES_var_TAA = ptf_return_TAA[ptf_return_TAA <= VaR_95_TAA].mean()\n",
    "ES_var_Real = ptf_return_Real[ptf_return_Real <= VaR_95_Real].mean()\n",
    "\n",
    "print(f'ES SAA var 5%: {ES_var_SAA}')\n",
    "print(f'ES TAA var 5%: {ES_var_TAA}')\n",
    "print(f'ES Real var 5%: {ES_var_Real}')"
   ]
  },
  {
   "source": [
    "## Historical method"
   ],
   "cell_type": "markdown",
   "metadata": {}
  },
  {
   "source": [
    "### VaR"
   ],
   "cell_type": "markdown",
   "metadata": {}
  },
  {
   "cell_type": "code",
   "execution_count": 131,
   "metadata": {},
   "outputs": [
    {
     "output_type": "stream",
     "name": "stdout",
     "text": [
      "VaR SAA 5%: -0.027072011521389647\nVaR TAA 5%: -0.05694802610459951\nVaR Real 5%: -0.056638707509634775\n"
     ]
    }
   ],
   "source": [
    "ptf_return_SAA_sort = ptf_return_SAA.sort_values(ascending=True)\n",
    "ptf_return_TAA_sort = ptf_return_TAA.sort_values(ascending=True)\n",
    "ptf_return_Real_sort = ptf_return_Real.sort_values(ascending=True)\n",
    "\n",
    "\n",
    "print(f'VaR SAA 5%: {ptf_return_SAA_sort.quantile(0.05)}')\n",
    "print(f'VaR TAA 5%: {ptf_return_TAA_sort.quantile(0.05)}')\n",
    "print(f'VaR Real 5%: {ptf_return_Real_sort.quantile(0.05)}')"
   ]
  },
  {
   "source": [
    "## ES"
   ],
   "cell_type": "markdown",
   "metadata": {}
  },
  {
   "cell_type": "code",
   "execution_count": 132,
   "metadata": {},
   "outputs": [
    {
     "output_type": "stream",
     "name": "stdout",
     "text": [
      "ES SAA hist 5%: -0.03757842294207015\nES TAA hist 5%: -0.07091502938402984\nES Real hist 5%: -0.06817750539266482\n"
     ]
    }
   ],
   "source": [
    "#https://s3.amazonaws.com/assets.datacamp.com/production/course_5612/slides/chapter4.pdf\n",
    "\n",
    "ES_SAA_hist = ptf_return_SAA_sort[ptf_return_SAA_sort <= np.quantile(ptf_return_SAA_sort,0.05)].mean()\n",
    "ES_TAA_hist = ptf_return_TAA_sort[ptf_return_TAA_sort <= np.quantile(ptf_return_TAA_sort,0.05)].mean()\n",
    "ES_Real_hist = ptf_return_Real_sort[ptf_return_Real_sort <= np.quantile(ptf_return_Real_sort,0.05)].mean()\n",
    "\n",
    "print(f'ES SAA hist 5%: {ES_SAA_hist}')\n",
    "print(f'ES TAA hist 5%: {ES_TAA_hist}')\n",
    "print(f'ES Real hist 5%: {ES_Real_hist}')"
   ]
  },
  {
   "source": [
    "# Age weigthed simulation\n",
    "\n",
    "https://rstudio-pubs-static.s3.amazonaws.com/380973_abe685cfa68b4890a82e247c5e8e5869.html#/3"
   ],
   "cell_type": "markdown",
   "metadata": {}
  },
  {
   "cell_type": "code",
   "execution_count": 133,
   "metadata": {},
   "outputs": [],
   "source": [
    "lamb = 0.98\n",
    "n = len(ptf_return_SAA)\n",
    "age = [i+1 for i in range(n)]\n",
    "age = np.sort(age)[::-1]\n",
    "w = []\n",
    "#print(age)\n",
    "for i in range(n):\n",
    "    temp = ((1-lamb)*(lamb**(age[i]-1)))/(1-lamb**n)\n",
    "    w.append(temp)\n",
    "\n",
    "df_SAA = pd.DataFrame(ptf_return_SAA,columns=['return'])\n",
    "df_SAA[\"w\"] = w\n",
    "df_SAA = df_SAA.sort_values(by='return',ascending=True)\n",
    "df_SAA['cumsum_w'] = np.cumsum(w)\n",
    "\n",
    "df_TAA = pd.DataFrame(ptf_return_TAA,columns=['return'])\n",
    "df_TAA[\"w\"] = w\n",
    "df_TAA = df_TAA.sort_values(by='return',ascending=True)\n",
    "df_TAA['cumsum_w'] = np.cumsum(w)\n",
    "\n",
    "df_Real = pd.DataFrame(ptf_return_Real,columns=['return'])\n",
    "df_Real[\"w\"] = w\n",
    "df_Real = df_Real.sort_values(by='return',ascending=True)\n",
    "df_Real['cumsum_w'] = np.cumsum(w)\n"
   ]
  },
  {
   "source": [
    "## VaR"
   ],
   "cell_type": "markdown",
   "metadata": {}
  },
  {
   "cell_type": "code",
   "execution_count": 134,
   "metadata": {},
   "outputs": [
    {
     "output_type": "stream",
     "name": "stdout",
     "text": [
      "VaR weigthed SAA: -0.0163524306514324\nVaR weigthed TAA: -0.02889741887969\nVaR weigthed Real: -0.025080524588452\n"
     ]
    }
   ],
   "source": [
    "SAA_weight_VaR = df_SAA['return'][df_SAA['cumsum_w'] <= 0.05].iloc[-1]\n",
    "TAA_weight_VaR = df_TAA['return'][df_TAA['cumsum_w'] <= 0.05].iloc[-1]\n",
    "Real_weight_VaR = df_Real['return'][df_Real['cumsum_w'] <= 0.05].iloc[-1]\n",
    "\n",
    "\n",
    "SAA_weight_ES = df_SAA['return'][df_SAA['return'] <= SAA_weight_VaR].mean()\n",
    "\n",
    "print(f'VaR weigthed SAA: {SAA_weight_VaR}')\n",
    "print(f'VaR weigthed TAA: {TAA_weight_VaR}')\n",
    "print(f'VaR weigthed Real: {Real_weight_VaR}')\n"
   ]
  },
  {
   "source": [
    "## ES"
   ],
   "cell_type": "markdown",
   "metadata": {}
  },
  {
   "cell_type": "code",
   "execution_count": 135,
   "metadata": {},
   "outputs": [
    {
     "output_type": "stream",
     "name": "stdout",
     "text": [
      "ES weigthed SAA: -0.025712645074393227\nES weigthed TAA: -0.046182528021526496\nES weigthed Real: -0.043374809135124065\n"
     ]
    }
   ],
   "source": [
    "SAA_weight_ES = df_SAA['return'][df_SAA['return'] <= SAA_weight_VaR].mean()\n",
    "TAA_weight_ES = df_TAA['return'][df_TAA['return'] <= TAA_weight_VaR].mean()\n",
    "Real_weight_ES = df_Real['return'][df_Real['return'] <= Real_weight_VaR].mean()\n",
    "\n",
    "print(f'ES weigthed SAA: {SAA_weight_ES}')\n",
    "print(f'ES weigthed TAA: {TAA_weight_ES}')\n",
    "print(f'ES weigthed Real: {Real_weight_ES}')"
   ]
  },
  {
   "cell_type": "code",
   "execution_count": 150,
   "metadata": {},
   "outputs": [
    {
     "output_type": "stream",
     "name": "stdout",
     "text": [
      "Copper\n"
     ]
    }
   ],
   "source": [
    "i = 1\n",
    "window = 6\n",
    "for i in range(len(ptf_return_SAA),1):\n",
    "    value = ptf_return_SAA[(window)*(i-1):(window*i)]\n",
    "    if len(value) < 6:\n",
    "        value = ptf_return_SAA[(window+2)*(i-1):(window*i)]\n",
    "print(value)"
   ]
  },
  {
   "cell_type": "code",
   "execution_count": 184,
   "metadata": {},
   "outputs": [
    {
     "output_type": "stream",
     "name": "stderr",
     "text": [
      "100%|██████████| 22/22 [00:00<00:00, 351.35it/s]\n",
      "<ipython-input-184-40d9bacd783e>:25: MatplotlibDeprecationWarning: Adding an axes using the same arguments as a previous axes currently reuses the earlier instance.  In a future version, a new instance will always be created and returned.  Meanwhile, this warning can be suppressed, and the future behavior ensured, by passing a unique label to each axes instance.\n",
      "  plt.subplot(121)\n",
      "[0.027511620725911918, 0.05292832982877393, 0.05632443589524444, 0.01292602074120479, 0.028593895831419847, 0.037387667617023126, 0.03002234710872357, 0.01255185703766015, 0.03904850991791639, 0.04770447632844291, 0.039384296838865684, 0.024203909763798943, 0.010438111121807862, 0.020797787641840378, 0.03371778236011684, 0.044762296399309266, 0.05493118321495376, 0.03655820108550757, 0.07300317189446234, 0.07384546009970584, 0.06135503204439087]\n"
     ]
    },
    {
     "output_type": "display_data",
     "data": {
      "text/plain": "<Figure size 432x288 with 1 Axes>",
      "image/svg+xml": "<?xml version=\"1.0\" encoding=\"utf-8\" standalone=\"no\"?>\n<!DOCTYPE svg PUBLIC \"-//W3C//DTD SVG 1.1//EN\"\n  \"http://www.w3.org/Graphics/SVG/1.1/DTD/svg11.dtd\">\n<!-- Created with matplotlib (https://matplotlib.org/) -->\n<svg height=\"266.135469pt\" version=\"1.1\" viewBox=\"0 0 197.488849 266.135469\" width=\"197.488849pt\" xmlns=\"http://www.w3.org/2000/svg\" xmlns:xlink=\"http://www.w3.org/1999/xlink\">\n <metadata>\n  <rdf:RDF xmlns:cc=\"http://creativecommons.org/ns#\" xmlns:dc=\"http://purl.org/dc/elements/1.1/\" xmlns:rdf=\"http://www.w3.org/1999/02/22-rdf-syntax-ns#\">\n   <cc:Work>\n    <dc:type rdf:resource=\"http://purl.org/dc/dcmitype/StillImage\"/>\n    <dc:date>2021-05-29T07:53:39.280920</dc:date>\n    <dc:format>image/svg+xml</dc:format>\n    <dc:creator>\n     <cc:Agent>\n      <dc:title>Matplotlib v3.3.4, https://matplotlib.org/</dc:title>\n     </cc:Agent>\n    </dc:creator>\n   </cc:Work>\n  </rdf:RDF>\n </metadata>\n <defs>\n  <style type=\"text/css\">*{stroke-linecap:butt;stroke-linejoin:round;}</style>\n </defs>\n <g id=\"figure_1\">\n  <g id=\"patch_1\">\n   <path d=\"M 0 266.135469 \nL 197.488849 266.135469 \nL 197.488849 0 \nL 0 0 \nz\n\" style=\"fill:#ffffff;\"/>\n  </g>\n  <g id=\"axes_1\">\n   <g id=\"patch_2\">\n    <path d=\"M 38.107031 239.375625 \nL 190.288849 239.375625 \nL 190.288849 21.935625 \nL 38.107031 21.935625 \nz\n\" style=\"fill:#ffffff;\"/>\n   </g>\n   <g id=\"matplotlib.axis_1\">\n    <g id=\"xtick_1\">\n     <g id=\"line2d_1\">\n      <path clip-path=\"url(#p9d8a14efab)\" d=\"M 45.024387 239.375625 \nL 45.024387 21.935625 \n\" style=\"fill:none;stroke:#cccccc;stroke-linecap:round;\"/>\n     </g>\n     <g id=\"text_1\">\n      <!-- 0 -->\n      <g style=\"fill:#262626;\" transform=\"translate(41.965871 256.749219)scale(0.11 -0.11)\">\n       <defs>\n        <path d=\"M 4.15625 35.296875 \nQ 4.15625 48 6.765625 55.734375 \nQ 9.375 63.484375 14.515625 67.671875 \nQ 19.671875 71.875 27.484375 71.875 \nQ 33.25 71.875 37.59375 69.546875 \nQ 41.9375 67.234375 44.765625 62.859375 \nQ 47.609375 58.5 49.21875 52.21875 \nQ 50.828125 45.953125 50.828125 35.296875 \nQ 50.828125 22.703125 48.234375 14.96875 \nQ 45.65625 7.234375 40.5 3 \nQ 35.359375 -1.21875 27.484375 -1.21875 \nQ 17.140625 -1.21875 11.234375 6.203125 \nQ 4.15625 15.140625 4.15625 35.296875 \nz\nM 13.1875 35.296875 \nQ 13.1875 17.671875 17.3125 11.828125 \nQ 21.4375 6 27.484375 6 \nQ 33.546875 6 37.671875 11.859375 \nQ 41.796875 17.71875 41.796875 35.296875 \nQ 41.796875 52.984375 37.671875 58.78125 \nQ 33.546875 64.59375 27.390625 64.59375 \nQ 21.34375 64.59375 17.71875 59.46875 \nQ 13.1875 52.9375 13.1875 35.296875 \nz\n\" id=\"ArialMT-48\"/>\n       </defs>\n       <use xlink:href=\"#ArialMT-48\"/>\n      </g>\n     </g>\n    </g>\n    <g id=\"xtick_2\">\n     <g id=\"line2d_2\">\n      <path clip-path=\"url(#p9d8a14efab)\" d=\"M 114.19794 239.375625 \nL 114.19794 21.935625 \n\" style=\"fill:none;stroke:#cccccc;stroke-linecap:round;\"/>\n     </g>\n     <g id=\"text_2\">\n      <!-- 10 -->\n      <g style=\"fill:#262626;\" transform=\"translate(108.080909 256.749219)scale(0.11 -0.11)\">\n       <defs>\n        <path d=\"M 37.25 0 \nL 28.46875 0 \nL 28.46875 56 \nQ 25.296875 52.984375 20.140625 49.953125 \nQ 14.984375 46.921875 10.890625 45.40625 \nL 10.890625 53.90625 \nQ 18.265625 57.375 23.78125 62.296875 \nQ 29.296875 67.234375 31.59375 71.875 \nL 37.25 71.875 \nz\n\" id=\"ArialMT-49\"/>\n       </defs>\n       <use xlink:href=\"#ArialMT-49\"/>\n       <use x=\"55.615234\" xlink:href=\"#ArialMT-48\"/>\n      </g>\n     </g>\n    </g>\n    <g id=\"xtick_3\">\n     <g id=\"line2d_3\">\n      <path clip-path=\"url(#p9d8a14efab)\" d=\"M 183.371494 239.375625 \nL 183.371494 21.935625 \n\" style=\"fill:none;stroke:#cccccc;stroke-linecap:round;\"/>\n     </g>\n     <g id=\"text_3\">\n      <!-- 20 -->\n      <g style=\"fill:#262626;\" transform=\"translate(177.254463 256.749219)scale(0.11 -0.11)\">\n       <defs>\n        <path d=\"M 50.34375 8.453125 \nL 50.34375 0 \nL 3.03125 0 \nQ 2.9375 3.171875 4.046875 6.109375 \nQ 5.859375 10.9375 9.828125 15.625 \nQ 13.8125 20.3125 21.34375 26.46875 \nQ 33.015625 36.03125 37.109375 41.625 \nQ 41.21875 47.21875 41.21875 52.203125 \nQ 41.21875 57.421875 37.46875 61 \nQ 33.734375 64.59375 27.734375 64.59375 \nQ 21.390625 64.59375 17.578125 60.78125 \nQ 13.765625 56.984375 13.71875 50.25 \nL 4.6875 51.171875 \nQ 5.609375 61.28125 11.65625 66.578125 \nQ 17.71875 71.875 27.9375 71.875 \nQ 38.234375 71.875 44.234375 66.15625 \nQ 50.25 60.453125 50.25 52 \nQ 50.25 47.703125 48.484375 43.546875 \nQ 46.734375 39.40625 42.65625 34.8125 \nQ 38.578125 30.21875 29.109375 22.21875 \nQ 21.1875 15.578125 18.9375 13.203125 \nQ 16.703125 10.84375 15.234375 8.453125 \nz\n\" id=\"ArialMT-50\"/>\n       </defs>\n       <use xlink:href=\"#ArialMT-50\"/>\n       <use x=\"55.615234\" xlink:href=\"#ArialMT-48\"/>\n      </g>\n     </g>\n    </g>\n   </g>\n   <g id=\"matplotlib.axis_2\">\n    <g id=\"ytick_1\">\n     <g id=\"line2d_4\">\n      <path clip-path=\"url(#p9d8a14efab)\" d=\"M 38.107031 224.108781 \nL 190.288849 224.108781 \n\" style=\"fill:none;stroke:#cccccc;stroke-linecap:round;\"/>\n     </g>\n     <g id=\"text_4\">\n      <!-- 0.01 -->\n      <g style=\"fill:#262626;\" transform=\"translate(7.2 228.045578)scale(0.11 -0.11)\">\n       <defs>\n        <path d=\"M 9.078125 0 \nL 9.078125 10.015625 \nL 19.09375 10.015625 \nL 19.09375 0 \nz\n\" id=\"ArialMT-46\"/>\n       </defs>\n       <use xlink:href=\"#ArialMT-48\"/>\n       <use x=\"55.615234\" xlink:href=\"#ArialMT-46\"/>\n       <use x=\"83.398438\" xlink:href=\"#ArialMT-48\"/>\n       <use x=\"139.013672\" xlink:href=\"#ArialMT-49\"/>\n      </g>\n     </g>\n    </g>\n    <g id=\"ytick_2\">\n     <g id=\"line2d_5\">\n      <path clip-path=\"url(#p9d8a14efab)\" d=\"M 38.107031 193.990818 \nL 190.288849 193.990818 \n\" style=\"fill:none;stroke:#cccccc;stroke-linecap:round;\"/>\n     </g>\n     <g id=\"text_5\">\n      <!-- 0.02 -->\n      <g style=\"fill:#262626;\" transform=\"translate(7.2 197.927615)scale(0.11 -0.11)\">\n       <use xlink:href=\"#ArialMT-48\"/>\n       <use x=\"55.615234\" xlink:href=\"#ArialMT-46\"/>\n       <use x=\"83.398438\" xlink:href=\"#ArialMT-48\"/>\n       <use x=\"139.013672\" xlink:href=\"#ArialMT-50\"/>\n      </g>\n     </g>\n    </g>\n    <g id=\"ytick_3\">\n     <g id=\"line2d_6\">\n      <path clip-path=\"url(#p9d8a14efab)\" d=\"M 38.107031 163.872855 \nL 190.288849 163.872855 \n\" style=\"fill:none;stroke:#cccccc;stroke-linecap:round;\"/>\n     </g>\n     <g id=\"text_6\">\n      <!-- 0.03 -->\n      <g style=\"fill:#262626;\" transform=\"translate(7.2 167.809652)scale(0.11 -0.11)\">\n       <defs>\n        <path d=\"M 4.203125 18.890625 \nL 12.984375 20.0625 \nQ 14.5 12.59375 18.140625 9.296875 \nQ 21.78125 6 27 6 \nQ 33.203125 6 37.46875 10.296875 \nQ 41.75 14.59375 41.75 20.953125 \nQ 41.75 27 37.796875 30.921875 \nQ 33.84375 34.859375 27.734375 34.859375 \nQ 25.25 34.859375 21.53125 33.890625 \nL 22.515625 41.609375 \nQ 23.390625 41.5 23.921875 41.5 \nQ 29.546875 41.5 34.03125 44.421875 \nQ 38.53125 47.359375 38.53125 53.46875 \nQ 38.53125 58.296875 35.25 61.46875 \nQ 31.984375 64.65625 26.8125 64.65625 \nQ 21.6875 64.65625 18.265625 61.421875 \nQ 14.84375 58.203125 13.875 51.765625 \nL 5.078125 53.328125 \nQ 6.6875 62.15625 12.390625 67.015625 \nQ 18.109375 71.875 26.609375 71.875 \nQ 32.46875 71.875 37.390625 69.359375 \nQ 42.328125 66.84375 44.9375 62.5 \nQ 47.5625 58.15625 47.5625 53.265625 \nQ 47.5625 48.640625 45.0625 44.828125 \nQ 42.578125 41.015625 37.703125 38.765625 \nQ 44.046875 37.3125 47.5625 32.6875 \nQ 51.078125 28.078125 51.078125 21.140625 \nQ 51.078125 11.765625 44.234375 5.25 \nQ 37.40625 -1.265625 26.953125 -1.265625 \nQ 17.53125 -1.265625 11.296875 4.34375 \nQ 5.078125 9.96875 4.203125 18.890625 \nz\n\" id=\"ArialMT-51\"/>\n       </defs>\n       <use xlink:href=\"#ArialMT-48\"/>\n       <use x=\"55.615234\" xlink:href=\"#ArialMT-46\"/>\n       <use x=\"83.398438\" xlink:href=\"#ArialMT-48\"/>\n       <use x=\"139.013672\" xlink:href=\"#ArialMT-51\"/>\n      </g>\n     </g>\n    </g>\n    <g id=\"ytick_4\">\n     <g id=\"line2d_7\">\n      <path clip-path=\"url(#p9d8a14efab)\" d=\"M 38.107031 133.754892 \nL 190.288849 133.754892 \n\" style=\"fill:none;stroke:#cccccc;stroke-linecap:round;\"/>\n     </g>\n     <g id=\"text_7\">\n      <!-- 0.04 -->\n      <g style=\"fill:#262626;\" transform=\"translate(7.2 137.691689)scale(0.11 -0.11)\">\n       <defs>\n        <path d=\"M 32.328125 0 \nL 32.328125 17.140625 \nL 1.265625 17.140625 \nL 1.265625 25.203125 \nL 33.9375 71.578125 \nL 41.109375 71.578125 \nL 41.109375 25.203125 \nL 50.78125 25.203125 \nL 50.78125 17.140625 \nL 41.109375 17.140625 \nL 41.109375 0 \nz\nM 32.328125 25.203125 \nL 32.328125 57.46875 \nL 9.90625 25.203125 \nz\n\" id=\"ArialMT-52\"/>\n       </defs>\n       <use xlink:href=\"#ArialMT-48\"/>\n       <use x=\"55.615234\" xlink:href=\"#ArialMT-46\"/>\n       <use x=\"83.398438\" xlink:href=\"#ArialMT-48\"/>\n       <use x=\"139.013672\" xlink:href=\"#ArialMT-52\"/>\n      </g>\n     </g>\n    </g>\n    <g id=\"ytick_5\">\n     <g id=\"line2d_8\">\n      <path clip-path=\"url(#p9d8a14efab)\" d=\"M 38.107031 103.636929 \nL 190.288849 103.636929 \n\" style=\"fill:none;stroke:#cccccc;stroke-linecap:round;\"/>\n     </g>\n     <g id=\"text_8\">\n      <!-- 0.05 -->\n      <g style=\"fill:#262626;\" transform=\"translate(7.2 107.573726)scale(0.11 -0.11)\">\n       <defs>\n        <path d=\"M 4.15625 18.75 \nL 13.375 19.53125 \nQ 14.40625 12.796875 18.140625 9.390625 \nQ 21.875 6 27.15625 6 \nQ 33.5 6 37.890625 10.78125 \nQ 42.28125 15.578125 42.28125 23.484375 \nQ 42.28125 31 38.0625 35.34375 \nQ 33.84375 39.703125 27 39.703125 \nQ 22.75 39.703125 19.328125 37.765625 \nQ 15.921875 35.84375 13.96875 32.765625 \nL 5.71875 33.84375 \nL 12.640625 70.609375 \nL 48.25 70.609375 \nL 48.25 62.203125 \nL 19.671875 62.203125 \nL 15.828125 42.96875 \nQ 22.265625 47.46875 29.34375 47.46875 \nQ 38.71875 47.46875 45.15625 40.96875 \nQ 51.609375 34.46875 51.609375 24.265625 \nQ 51.609375 14.546875 45.953125 7.46875 \nQ 39.0625 -1.21875 27.15625 -1.21875 \nQ 17.390625 -1.21875 11.203125 4.25 \nQ 5.03125 9.71875 4.15625 18.75 \nz\n\" id=\"ArialMT-53\"/>\n       </defs>\n       <use xlink:href=\"#ArialMT-48\"/>\n       <use x=\"55.615234\" xlink:href=\"#ArialMT-46\"/>\n       <use x=\"83.398438\" xlink:href=\"#ArialMT-48\"/>\n       <use x=\"139.013672\" xlink:href=\"#ArialMT-53\"/>\n      </g>\n     </g>\n    </g>\n    <g id=\"ytick_6\">\n     <g id=\"line2d_9\">\n      <path clip-path=\"url(#p9d8a14efab)\" d=\"M 38.107031 73.518967 \nL 190.288849 73.518967 \n\" style=\"fill:none;stroke:#cccccc;stroke-linecap:round;\"/>\n     </g>\n     <g id=\"text_9\">\n      <!-- 0.06 -->\n      <g style=\"fill:#262626;\" transform=\"translate(7.2 77.455763)scale(0.11 -0.11)\">\n       <defs>\n        <path d=\"M 49.75 54.046875 \nL 41.015625 53.375 \nQ 39.84375 58.546875 37.703125 60.890625 \nQ 34.125 64.65625 28.90625 64.65625 \nQ 24.703125 64.65625 21.53125 62.3125 \nQ 17.390625 59.28125 14.984375 53.46875 \nQ 12.59375 47.65625 12.5 36.921875 \nQ 15.671875 41.75 20.265625 44.09375 \nQ 24.859375 46.4375 29.890625 46.4375 \nQ 38.671875 46.4375 44.84375 39.96875 \nQ 51.03125 33.5 51.03125 23.25 \nQ 51.03125 16.5 48.125 10.71875 \nQ 45.21875 4.9375 40.140625 1.859375 \nQ 35.0625 -1.21875 28.609375 -1.21875 \nQ 17.625 -1.21875 10.6875 6.859375 \nQ 3.765625 14.9375 3.765625 33.5 \nQ 3.765625 54.25 11.421875 63.671875 \nQ 18.109375 71.875 29.4375 71.875 \nQ 37.890625 71.875 43.28125 67.140625 \nQ 48.6875 62.40625 49.75 54.046875 \nz\nM 13.875 23.1875 \nQ 13.875 18.65625 15.796875 14.5 \nQ 17.71875 10.359375 21.1875 8.171875 \nQ 24.65625 6 28.46875 6 \nQ 34.03125 6 38.03125 10.484375 \nQ 42.046875 14.984375 42.046875 22.703125 \nQ 42.046875 30.125 38.078125 34.390625 \nQ 34.125 38.671875 28.125 38.671875 \nQ 22.171875 38.671875 18.015625 34.390625 \nQ 13.875 30.125 13.875 23.1875 \nz\n\" id=\"ArialMT-54\"/>\n       </defs>\n       <use xlink:href=\"#ArialMT-48\"/>\n       <use x=\"55.615234\" xlink:href=\"#ArialMT-46\"/>\n       <use x=\"83.398438\" xlink:href=\"#ArialMT-48\"/>\n       <use x=\"139.013672\" xlink:href=\"#ArialMT-54\"/>\n      </g>\n     </g>\n    </g>\n    <g id=\"ytick_7\">\n     <g id=\"line2d_10\">\n      <path clip-path=\"url(#p9d8a14efab)\" d=\"M 38.107031 43.401004 \nL 190.288849 43.401004 \n\" style=\"fill:none;stroke:#cccccc;stroke-linecap:round;\"/>\n     </g>\n     <g id=\"text_10\">\n      <!-- 0.07 -->\n      <g style=\"fill:#262626;\" transform=\"translate(7.2 47.337801)scale(0.11 -0.11)\">\n       <defs>\n        <path d=\"M 4.734375 62.203125 \nL 4.734375 70.65625 \nL 51.078125 70.65625 \nL 51.078125 63.8125 \nQ 44.234375 56.546875 37.515625 44.484375 \nQ 30.8125 32.421875 27.15625 19.671875 \nQ 24.515625 10.6875 23.78125 0 \nL 14.75 0 \nQ 14.890625 8.453125 18.0625 20.40625 \nQ 21.234375 32.375 27.171875 43.484375 \nQ 33.109375 54.59375 39.796875 62.203125 \nz\n\" id=\"ArialMT-55\"/>\n       </defs>\n       <use xlink:href=\"#ArialMT-48\"/>\n       <use x=\"55.615234\" xlink:href=\"#ArialMT-46\"/>\n       <use x=\"83.398438\" xlink:href=\"#ArialMT-48\"/>\n       <use x=\"139.013672\" xlink:href=\"#ArialMT-55\"/>\n      </g>\n     </g>\n    </g>\n   </g>\n   <g id=\"line2d_11\">\n    <path clip-path=\"url(#p9d8a14efab)\" d=\"M 45.024387 194.201865 \nL 51.941742 152.114313 \nL 58.859097 133.14995 \nL 65.776453 223.441652 \nL 72.693808 185.53523 \nL 79.611163 164.869506 \nL 86.528519 190.1382 \nL 93.445874 229.491989 \nL 100.36323 169.717927 \nL 107.280585 154.611301 \nL 114.19794 176.827798 \nL 121.115296 197.412631 \nL 128.032651 227.162192 \nL 134.950006 204.878911 \nL 141.867362 182.90876 \nL 148.784717 166.902511 \nL 155.702073 131.389885 \nL 162.619428 172.438891 \nL 169.536783 106.163002 \nL 176.454139 85.145653 \nL 183.371494 105.512227 \n\" style=\"fill:none;stroke:#4c72b0;stroke-linecap:round;stroke-width:1.5;\"/>\n   </g>\n   <g id=\"line2d_12\">\n    <path clip-path=\"url(#p9d8a14efab)\" d=\"M 45.024387 171.367347 \nL 51.941742 94.817397 \nL 58.859097 84.589017 \nL 65.776453 215.296202 \nL 72.693808 168.107754 \nL 79.611163 141.622705 \nL 86.528519 163.80555 \nL 93.445874 216.423107 \nL 100.36323 136.620587 \nL 107.280585 110.550579 \nL 114.19794 135.609265 \nL 121.115296 181.329498 \nL 128.032651 222.789279 \nL 134.950006 191.588044 \nL 141.867362 152.675652 \nL 148.784717 119.411826 \nL 155.702073 88.78521 \nL 162.619428 144.120889 \nL 169.536783 34.356062 \nL 176.454139 31.819261 \nL 183.371494 69.437886 \n\" style=\"fill:none;stroke:#dd8452;stroke-linecap:round;stroke-width:1.5;\"/>\n   </g>\n   <g id=\"patch_3\">\n    <path d=\"M 38.107031 239.375625 \nL 38.107031 21.935625 \n\" style=\"fill:none;stroke:#cccccc;stroke-linecap:square;stroke-linejoin:miter;stroke-width:1.25;\"/>\n   </g>\n   <g id=\"patch_4\">\n    <path d=\"M 190.288849 239.375625 \nL 190.288849 21.935625 \n\" style=\"fill:none;stroke:#cccccc;stroke-linecap:square;stroke-linejoin:miter;stroke-width:1.25;\"/>\n   </g>\n   <g id=\"patch_5\">\n    <path d=\"M 38.107031 239.375625 \nL 190.288849 239.375625 \n\" style=\"fill:none;stroke:#cccccc;stroke-linecap:square;stroke-linejoin:miter;stroke-width:1.25;\"/>\n   </g>\n   <g id=\"patch_6\">\n    <path d=\"M 38.107031 21.935625 \nL 190.288849 21.935625 \n\" style=\"fill:none;stroke:#cccccc;stroke-linecap:square;stroke-linejoin:miter;stroke-width:1.25;\"/>\n   </g>\n   <g id=\"text_11\">\n    <!-- SAA weight -->\n    <g style=\"fill:#262626;\" transform=\"translate(83.51169 15.935625)scale(0.12 -0.12)\">\n     <defs>\n      <path d=\"M 4.5 23 \nL 13.421875 23.78125 \nQ 14.0625 18.40625 16.375 14.96875 \nQ 18.703125 11.53125 23.578125 9.40625 \nQ 28.46875 7.28125 34.578125 7.28125 \nQ 39.984375 7.28125 44.140625 8.890625 \nQ 48.296875 10.5 50.3125 13.296875 \nQ 52.34375 16.109375 52.34375 19.4375 \nQ 52.34375 22.796875 50.390625 25.3125 \nQ 48.4375 27.828125 43.953125 29.546875 \nQ 41.0625 30.671875 31.203125 33.03125 \nQ 21.34375 35.40625 17.390625 37.5 \nQ 12.25 40.1875 9.734375 44.15625 \nQ 7.234375 48.140625 7.234375 53.078125 \nQ 7.234375 58.5 10.296875 63.203125 \nQ 13.375 67.921875 19.28125 70.359375 \nQ 25.203125 72.796875 32.421875 72.796875 \nQ 40.375 72.796875 46.453125 70.234375 \nQ 52.546875 67.671875 55.8125 62.6875 \nQ 59.078125 57.71875 59.328125 51.421875 \nL 50.25 50.734375 \nQ 49.515625 57.515625 45.28125 60.984375 \nQ 41.0625 64.453125 32.8125 64.453125 \nQ 24.21875 64.453125 20.28125 61.296875 \nQ 16.359375 58.15625 16.359375 53.71875 \nQ 16.359375 49.859375 19.140625 47.359375 \nQ 21.875 44.875 33.421875 42.265625 \nQ 44.96875 39.65625 49.265625 37.703125 \nQ 55.515625 34.8125 58.484375 30.390625 \nQ 61.46875 25.984375 61.46875 20.21875 \nQ 61.46875 14.5 58.203125 9.4375 \nQ 54.9375 4.390625 48.796875 1.578125 \nQ 42.671875 -1.21875 35.015625 -1.21875 \nQ 25.296875 -1.21875 18.71875 1.609375 \nQ 12.15625 4.4375 8.421875 10.125 \nQ 4.6875 15.828125 4.5 23 \nz\n\" id=\"ArialMT-83\"/>\n      <path d=\"M -0.140625 0 \nL 27.34375 71.578125 \nL 37.546875 71.578125 \nL 66.84375 0 \nL 56.0625 0 \nL 47.703125 21.6875 \nL 17.78125 21.6875 \nL 9.90625 0 \nz\nM 20.515625 29.390625 \nL 44.78125 29.390625 \nL 37.3125 49.21875 \nQ 33.890625 58.25 32.234375 64.0625 \nQ 30.859375 57.171875 28.375 50.390625 \nz\n\" id=\"ArialMT-65\"/>\n      <path id=\"ArialMT-32\"/>\n      <path d=\"M 16.15625 0 \nL 0.296875 51.859375 \nL 9.375 51.859375 \nL 17.625 21.921875 \nL 20.703125 10.796875 \nQ 20.90625 11.625 23.390625 21.484375 \nL 31.640625 51.859375 \nL 40.671875 51.859375 \nL 48.4375 21.78125 \nL 51.03125 11.859375 \nL 54 21.875 \nL 62.890625 51.859375 \nL 71.4375 51.859375 \nL 55.21875 0 \nL 46.09375 0 \nL 37.84375 31.0625 \nL 35.84375 39.890625 \nL 25.34375 0 \nz\n\" id=\"ArialMT-119\"/>\n      <path d=\"M 42.09375 16.703125 \nL 51.171875 15.578125 \nQ 49.03125 7.625 43.21875 3.21875 \nQ 37.40625 -1.171875 28.375 -1.171875 \nQ 17 -1.171875 10.328125 5.828125 \nQ 3.65625 12.84375 3.65625 25.484375 \nQ 3.65625 38.578125 10.390625 45.796875 \nQ 17.140625 53.03125 27.875 53.03125 \nQ 38.28125 53.03125 44.875 45.953125 \nQ 51.46875 38.875 51.46875 26.03125 \nQ 51.46875 25.25 51.421875 23.6875 \nL 12.75 23.6875 \nQ 13.234375 15.140625 17.578125 10.59375 \nQ 21.921875 6.0625 28.421875 6.0625 \nQ 33.25 6.0625 36.671875 8.59375 \nQ 40.09375 11.140625 42.09375 16.703125 \nz\nM 13.234375 30.90625 \nL 42.1875 30.90625 \nQ 41.609375 37.453125 38.875 40.71875 \nQ 34.671875 45.796875 27.984375 45.796875 \nQ 21.921875 45.796875 17.796875 41.75 \nQ 13.671875 37.703125 13.234375 30.90625 \nz\n\" id=\"ArialMT-101\"/>\n      <path d=\"M 6.640625 61.46875 \nL 6.640625 71.578125 \nL 15.4375 71.578125 \nL 15.4375 61.46875 \nz\nM 6.640625 0 \nL 6.640625 51.859375 \nL 15.4375 51.859375 \nL 15.4375 0 \nz\n\" id=\"ArialMT-105\"/>\n      <path d=\"M 4.984375 -4.296875 \nL 13.53125 -5.5625 \nQ 14.0625 -9.515625 16.5 -11.328125 \nQ 19.78125 -13.765625 25.4375 -13.765625 \nQ 31.546875 -13.765625 34.859375 -11.328125 \nQ 38.1875 -8.890625 39.359375 -4.5 \nQ 40.046875 -1.8125 39.984375 6.78125 \nQ 34.234375 0 25.640625 0 \nQ 14.9375 0 9.078125 7.71875 \nQ 3.21875 15.4375 3.21875 26.21875 \nQ 3.21875 33.640625 5.90625 39.90625 \nQ 8.59375 46.1875 13.6875 49.609375 \nQ 18.796875 53.03125 25.6875 53.03125 \nQ 34.859375 53.03125 40.828125 45.609375 \nL 40.828125 51.859375 \nL 48.921875 51.859375 \nL 48.921875 7.03125 \nQ 48.921875 -5.078125 46.453125 -10.125 \nQ 44 -15.1875 38.640625 -18.109375 \nQ 33.296875 -21.046875 25.484375 -21.046875 \nQ 16.21875 -21.046875 10.5 -16.875 \nQ 4.78125 -12.703125 4.984375 -4.296875 \nz\nM 12.25 26.859375 \nQ 12.25 16.65625 16.296875 11.96875 \nQ 20.359375 7.28125 26.46875 7.28125 \nQ 32.515625 7.28125 36.609375 11.9375 \nQ 40.71875 16.609375 40.71875 26.5625 \nQ 40.71875 36.078125 36.5 40.90625 \nQ 32.28125 45.75 26.3125 45.75 \nQ 20.453125 45.75 16.34375 40.984375 \nQ 12.25 36.234375 12.25 26.859375 \nz\n\" id=\"ArialMT-103\"/>\n      <path d=\"M 6.59375 0 \nL 6.59375 71.578125 \nL 15.375 71.578125 \nL 15.375 45.90625 \nQ 21.53125 53.03125 30.90625 53.03125 \nQ 36.671875 53.03125 40.921875 50.75 \nQ 45.171875 48.484375 47 44.484375 \nQ 48.828125 40.484375 48.828125 32.859375 \nL 48.828125 0 \nL 40.046875 0 \nL 40.046875 32.859375 \nQ 40.046875 39.453125 37.1875 42.453125 \nQ 34.328125 45.453125 29.109375 45.453125 \nQ 25.203125 45.453125 21.75 43.421875 \nQ 18.3125 41.40625 16.84375 37.9375 \nQ 15.375 34.46875 15.375 28.375 \nL 15.375 0 \nz\n\" id=\"ArialMT-104\"/>\n      <path d=\"M 25.78125 7.859375 \nL 27.046875 0.09375 \nQ 23.34375 -0.6875 20.40625 -0.6875 \nQ 15.625 -0.6875 12.984375 0.828125 \nQ 10.359375 2.34375 9.28125 4.8125 \nQ 8.203125 7.28125 8.203125 15.1875 \nL 8.203125 45.015625 \nL 1.765625 45.015625 \nL 1.765625 51.859375 \nL 8.203125 51.859375 \nL 8.203125 64.703125 \nL 16.9375 69.96875 \nL 16.9375 51.859375 \nL 25.78125 51.859375 \nL 25.78125 45.015625 \nL 16.9375 45.015625 \nL 16.9375 14.703125 \nQ 16.9375 10.9375 17.40625 9.859375 \nQ 17.875 8.796875 18.921875 8.15625 \nQ 19.96875 7.515625 21.921875 7.515625 \nQ 23.390625 7.515625 25.78125 7.859375 \nz\n\" id=\"ArialMT-116\"/>\n     </defs>\n     <use xlink:href=\"#ArialMT-83\"/>\n     <use x=\"66.699219\" xlink:href=\"#ArialMT-65\"/>\n     <use x=\"133.398438\" xlink:href=\"#ArialMT-65\"/>\n     <use x=\"194.597656\" xlink:href=\"#ArialMT-32\"/>\n     <use x=\"222.380859\" xlink:href=\"#ArialMT-119\"/>\n     <use x=\"294.597656\" xlink:href=\"#ArialMT-101\"/>\n     <use x=\"350.212891\" xlink:href=\"#ArialMT-105\"/>\n     <use x=\"372.429688\" xlink:href=\"#ArialMT-103\"/>\n     <use x=\"428.044922\" xlink:href=\"#ArialMT-104\"/>\n     <use x=\"483.660156\" xlink:href=\"#ArialMT-116\"/>\n    </g>\n   </g>\n   <g id=\"legend_1\">\n    <g id=\"patch_7\">\n     <path d=\"M 45.807031 61.855312 \nL 120.548594 61.855312 \nQ 122.748594 61.855312 122.748594 59.655312 \nL 122.748594 29.635625 \nQ 122.748594 27.435625 120.548594 27.435625 \nL 45.807031 27.435625 \nQ 43.607031 27.435625 43.607031 29.635625 \nL 43.607031 59.655312 \nQ 43.607031 61.855312 45.807031 61.855312 \nz\n\" style=\"fill:#ffffff;opacity:0.8;stroke:#cccccc;stroke-linejoin:miter;\"/>\n    </g>\n    <g id=\"line2d_13\">\n     <path d=\"M 48.007031 35.859219 \nL 70.007031 35.859219 \n\" style=\"fill:none;stroke:#4c72b0;stroke-linecap:round;stroke-width:1.5;\"/>\n    </g>\n    <g id=\"line2d_14\"/>\n    <g id=\"text_12\">\n     <!-- VaR 5% -->\n     <g style=\"fill:#262626;\" transform=\"translate(78.807031 39.709219)scale(0.11 -0.11)\">\n      <defs>\n       <path d=\"M 28.171875 0 \nL 0.4375 71.578125 \nL 10.6875 71.578125 \nL 29.296875 19.578125 \nQ 31.546875 13.328125 33.0625 7.859375 \nQ 34.71875 13.71875 36.921875 19.578125 \nL 56.25 71.578125 \nL 65.921875 71.578125 \nL 37.890625 0 \nz\n\" id=\"ArialMT-86\"/>\n       <path d=\"M 40.4375 6.390625 \nQ 35.546875 2.25 31.03125 0.53125 \nQ 26.515625 -1.171875 21.34375 -1.171875 \nQ 12.796875 -1.171875 8.203125 3 \nQ 3.609375 7.171875 3.609375 13.671875 \nQ 3.609375 17.484375 5.34375 20.625 \nQ 7.078125 23.78125 9.890625 25.6875 \nQ 12.703125 27.59375 16.21875 28.5625 \nQ 18.796875 29.25 24.03125 29.890625 \nQ 34.671875 31.15625 39.703125 32.90625 \nQ 39.75 34.71875 39.75 35.203125 \nQ 39.75 40.578125 37.25 42.78125 \nQ 33.890625 45.75 27.25 45.75 \nQ 21.046875 45.75 18.09375 43.578125 \nQ 15.140625 41.40625 13.71875 35.890625 \nL 5.125 37.0625 \nQ 6.296875 42.578125 8.984375 45.96875 \nQ 11.671875 49.359375 16.75 51.1875 \nQ 21.828125 53.03125 28.515625 53.03125 \nQ 35.15625 53.03125 39.296875 51.46875 \nQ 43.453125 49.90625 45.40625 47.53125 \nQ 47.359375 45.171875 48.140625 41.546875 \nQ 48.578125 39.3125 48.578125 33.453125 \nL 48.578125 21.734375 \nQ 48.578125 9.46875 49.140625 6.21875 \nQ 49.703125 2.984375 51.375 0 \nL 42.1875 0 \nQ 40.828125 2.734375 40.4375 6.390625 \nz\nM 39.703125 26.03125 \nQ 34.90625 24.078125 25.34375 22.703125 \nQ 19.921875 21.921875 17.671875 20.9375 \nQ 15.4375 19.96875 14.203125 18.09375 \nQ 12.984375 16.21875 12.984375 13.921875 \nQ 12.984375 10.40625 15.640625 8.0625 \nQ 18.3125 5.71875 23.4375 5.71875 \nQ 28.515625 5.71875 32.46875 7.9375 \nQ 36.421875 10.15625 38.28125 14.015625 \nQ 39.703125 17 39.703125 22.796875 \nz\n\" id=\"ArialMT-97\"/>\n       <path d=\"M 7.859375 0 \nL 7.859375 71.578125 \nL 39.59375 71.578125 \nQ 49.171875 71.578125 54.140625 69.640625 \nQ 59.125 67.71875 62.109375 62.828125 \nQ 65.09375 57.953125 65.09375 52.046875 \nQ 65.09375 44.4375 60.15625 39.203125 \nQ 55.21875 33.984375 44.921875 32.5625 \nQ 48.6875 30.765625 50.640625 29 \nQ 54.78125 25.203125 58.5 19.484375 \nL 70.953125 0 \nL 59.03125 0 \nL 49.5625 14.890625 \nQ 45.40625 21.34375 42.71875 24.75 \nQ 40.046875 28.171875 37.921875 29.53125 \nQ 35.796875 30.90625 33.59375 31.453125 \nQ 31.984375 31.78125 28.328125 31.78125 \nL 17.328125 31.78125 \nL 17.328125 0 \nz\nM 17.328125 39.984375 \nL 37.703125 39.984375 \nQ 44.1875 39.984375 47.84375 41.328125 \nQ 51.515625 42.671875 53.421875 45.625 \nQ 55.328125 48.578125 55.328125 52.046875 \nQ 55.328125 57.125 51.640625 60.390625 \nQ 47.953125 63.671875 39.984375 63.671875 \nL 17.328125 63.671875 \nz\n\" id=\"ArialMT-82\"/>\n       <path d=\"M 5.8125 54.390625 \nQ 5.8125 62.0625 9.671875 67.421875 \nQ 13.53125 72.796875 20.84375 72.796875 \nQ 27.59375 72.796875 32 67.984375 \nQ 36.421875 63.1875 36.421875 53.859375 \nQ 36.421875 44.78125 31.953125 39.875 \nQ 27.484375 34.96875 20.953125 34.96875 \nQ 14.453125 34.96875 10.125 39.796875 \nQ 5.8125 44.625 5.8125 54.390625 \nz\nM 21.09375 66.75 \nQ 17.828125 66.75 15.65625 63.90625 \nQ 13.484375 61.078125 13.484375 53.515625 \nQ 13.484375 46.625 15.671875 43.8125 \nQ 17.875 41.015625 21.09375 41.015625 \nQ 24.421875 41.015625 26.59375 43.84375 \nQ 28.765625 46.6875 28.765625 54.203125 \nQ 28.765625 61.140625 26.5625 63.9375 \nQ 24.359375 66.75 21.09375 66.75 \nz\nM 21.140625 -2.640625 \nL 60.296875 72.796875 \nL 67.4375 72.796875 \nL 28.421875 -2.640625 \nz\nM 52.09375 16.796875 \nQ 52.09375 24.515625 55.953125 29.859375 \nQ 59.8125 35.203125 67.1875 35.203125 \nQ 73.921875 35.203125 78.34375 30.390625 \nQ 82.765625 25.59375 82.765625 16.265625 \nQ 82.765625 7.171875 78.296875 2.265625 \nQ 73.828125 -2.640625 67.234375 -2.640625 \nQ 60.75 -2.640625 56.421875 2.21875 \nQ 52.09375 7.078125 52.09375 16.796875 \nz\nM 67.4375 29.15625 \nQ 64.109375 29.15625 61.9375 26.3125 \nQ 59.765625 23.484375 59.765625 15.921875 \nQ 59.765625 9.078125 61.953125 6.25 \nQ 64.15625 3.421875 67.390625 3.421875 \nQ 70.75 3.421875 72.921875 6.25 \nQ 75.09375 9.078125 75.09375 16.609375 \nQ 75.09375 23.53125 72.890625 26.34375 \nQ 70.703125 29.15625 67.4375 29.15625 \nz\n\" id=\"ArialMT-37\"/>\n      </defs>\n      <use xlink:href=\"#ArialMT-86\"/>\n      <use x=\"59.324219\" xlink:href=\"#ArialMT-97\"/>\n      <use x=\"114.939453\" xlink:href=\"#ArialMT-82\"/>\n      <use x=\"187.15625\" xlink:href=\"#ArialMT-32\"/>\n      <use x=\"214.939453\" xlink:href=\"#ArialMT-53\"/>\n      <use x=\"270.554688\" xlink:href=\"#ArialMT-37\"/>\n     </g>\n    </g>\n    <g id=\"line2d_15\">\n     <path d=\"M 48.007031 51.419062 \nL 70.007031 51.419062 \n\" style=\"fill:none;stroke:#dd8452;stroke-linecap:round;stroke-width:1.5;\"/>\n    </g>\n    <g id=\"line2d_16\"/>\n    <g id=\"text_13\">\n     <!-- VaR 1% -->\n     <g style=\"fill:#262626;\" transform=\"translate(78.807031 55.269062)scale(0.11 -0.11)\">\n      <use xlink:href=\"#ArialMT-86\"/>\n      <use x=\"59.324219\" xlink:href=\"#ArialMT-97\"/>\n      <use x=\"114.939453\" xlink:href=\"#ArialMT-82\"/>\n      <use x=\"187.15625\" xlink:href=\"#ArialMT-32\"/>\n      <use x=\"214.939453\" xlink:href=\"#ArialMT-49\"/>\n      <use x=\"270.554688\" xlink:href=\"#ArialMT-37\"/>\n     </g>\n    </g>\n   </g>\n  </g>\n </g>\n <defs>\n  <clipPath id=\"p9d8a14efab\">\n   <rect height=\"217.44\" width=\"152.181818\" x=\"38.107031\" y=\"21.935625\"/>\n  </clipPath>\n </defs>\n</svg>\n",
      "image/png": "[encoded data removed]"
     },
     "metadata": {}
    }
   ],
   "source": [
    "length = int(len(ptf_return_SAA)/6)\n",
    "VaR_5 = []\n",
    "VaR_1 = []\n",
    "ES_5 = []\n",
    "j = 1\n",
    "ptfs = [ptf_return_SAA,ptf_return_TAA,ptf_return_Real]\n",
    "for j in rangelen(ptfs):\n",
    "    for i in tqdm(range(0,22)):\n",
    "        value = ptf_return_SAA[(window)*(i-1):(window*i)]\n",
    "        if len(value) < 6:\n",
    "            value = ptf_return_SAA[(window)*(i-1)-2:(window*i)]\n",
    "        temp_mean = np.mean(value)\n",
    "        temp_std = np.std(value)\n",
    "        var5 = norm.ppf(1-0.95,temp_mean,temp_std)\n",
    "        var1 = norm.ppf(1-0.99,temp_mean,temp_std)\n",
    "\n",
    "        value = value.sort_values(ascending=True)\n",
    "        \n",
    "        VaR_5.append(-var5)\n",
    "        VaR_1.append(-var1)\n",
    "        \n",
    "        VaR_5 = VaR_5[1:]\n",
    "        VaR_1 = VaR_1[1:]\n",
    "        plt.subplot(12j)\n",
    "        plt.plot(VaR_5,label='VaR 5%')\n",
    "        plt.plot(VaR_1, label='VaR 1%')\n",
    "        plt.title(\"SAA weight\")\n",
    "\n",
    "    plt.legend()\n",
    "print(VaR_1)"
   ]
  },
  {
   "cell_type": "code",
   "execution_count": 141,
   "metadata": {},
   "outputs": [
    {
     "output_type": "execute_result",
     "data": {
      "text/plain": [
       "Dates\n",
       "2011-01-31   -0.013248\n",
       "2011-02-28   -0.012085\n",
       "2011-03-31    0.006264\n",
       "2011-04-29   -0.011759\n",
       "2011-05-31    0.014886\n",
       "                ...   \n",
       "2020-12-31   -0.014542\n",
       "2021-01-29    0.002224\n",
       "2021-02-26   -0.019414\n",
       "2021-03-31   -0.017010\n",
       "2021-04-30   -0.017777\n",
       "Length: 124, dtype: float64"
      ]
     },
     "metadata": {},
     "execution_count": 141
    }
   ],
   "source": [
    "ptf_return_SAA"
   ]
  },
  {
   "cell_type": "code",
   "execution_count": null,
   "metadata": {},
   "outputs": [],
   "source": []
  }
 ]
}