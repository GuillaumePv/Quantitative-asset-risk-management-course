{
 "metadata": {
  "language_info": {
   "codemirror_mode": {
    "name": "ipython",
    "version": 3
   },
   "file_extension": ".py",
   "mimetype": "text/x-python",
   "name": "python",
   "nbconvert_exporter": "python",
   "pygments_lexer": "ipython3",
   "version": "3.8.1"
  },
  "orig_nbformat": 2,
  "kernelspec": {
   "name": "python381jvsc74a57bd0082e9a3bcad0a290d0001e938aa60b99250c6c2ef33a923c00b70f9826caf4b7",
   "display_name": "Python 3.8.1 64-bit ('3.8')"
  },
  "metadata": {
   "interpreter": {
    "hash": "082e9a3bcad0a290d0001e938aa60b99250c6c2ef33a923c00b70f9826caf4b7"
   }
  }
 },
 "nbformat": 4,
 "nbformat_minor": 2,
 "cells": [
  {
   "cell_type": "code",
   "execution_count": 37,
   "metadata": {
    "tags": []
   },
   "outputs": [],
   "source": [
    "from Assignment3_part1 import *\n",
    "from tqdm import tqdm\n",
    "from scipy.stats import norm"
   ]
  },
  {
   "source": [
    "## Variables qui nous intéressent\n",
    "\n",
    "* SAA_weights_IS\n",
    "* SAA_weights_OS\n",
    "* TAA_weights_IS\n",
    "* TAA_weights_OS\n",
    "* weight_target_IS\n",
    "* weight_target_OS\n",
    "* benchmark_weights_IS\n",
    "* benchmark_weights_OS\n",
    "\n",
    "### Benchmark (50% Equities / 50% Bond)\n",
    "\n",
    "### Return\n",
    "\n",
    "* returns_IS_price\n",
    "* returns_OS_price"
   ],
   "cell_type": "markdown",
   "metadata": {}
  },
  {
   "cell_type": "code",
   "execution_count": 19,
   "metadata": {},
   "outputs": [],
   "source": [
    "# SAA\n",
    "SAA_active_weight_IS = SAA_weights_IS - benchmark_weights_IS\n",
    "SAA_active_weight_OS = SAA_weights_OS - benchmark_weights_OS\n",
    "\n",
    "# TAA\n",
    "TAA_active_weight_IS = TAA_weights_IS - benchmark_weights_IS\n",
    "TAA_active_weight_OS = TAA_weights_OS - benchmark_weights_OS\n",
    "\n",
    "# Real portfolio\n",
    "active_weight_target_IS = weight_target_IS - benchmark_weights_IS\n",
    "active_weight_target_OS = weight_target_OS - benchmark_weights_OS"
   ]
  },
  {
   "source": [
    "# Question 1"
   ],
   "cell_type": "markdown",
   "metadata": {}
  },
  {
   "cell_type": "code",
   "execution_count": 31,
   "metadata": {},
   "outputs": [],
   "source": [
    "MCR_SAA_active_IS = MCR_calc(SAA_active_weight_IS,returns_IS_price)\n",
    "\n",
    "MCR_TAA_active_IS = MCR_calc(TAA_active_weight_IS,returns_IS_price)\n",
    "\n",
    "MCR_real_IS = MCR_calc(active_weight_target_IS,returns_IS_price)"
   ]
  },
  {
   "cell_type": "code",
   "execution_count": 87,
   "metadata": {
    "tags": []
   },
   "outputs": [
    {
     "output_type": "stream",
     "name": "stderr",
     "text": [
      "100%|██████████| 124/124 [00:04<00:00, 29.55it/s]\n"
     ]
    }
   ],
   "source": [
    "# SAA\n",
    "MCR_SAA = []\n",
    "MCR_SAA_final = []\n",
    "MCR_TAA = []\n",
    "MCR_TAA_final = []\n",
    "MCR_real = []\n",
    "MCR_real_final = []\n",
    "\n",
    "SAA_rolling = SAA_active_weight_IS.copy()\n",
    "TAA_rolling = TAA_active_weight_IS.copy()\n",
    "Real_rolling = weight_target_IS.copy()\n",
    "return_rolling = returns_IS_price.copy()\n",
    "for i in tqdm(range(len(SAA_active_weight_OS))):\n",
    "    SAA_rolling = SAA_rolling.append(SAA_active_weight_OS.iloc[i,:])\n",
    "    TAA_rolling = TAA_rolling.append(TAA_active_weight_OS.iloc[i,:])\n",
    "    Real_rolling = Real_rolling.append(active_weight_target_OS.iloc[i,:])\n",
    "\n",
    "    return_rolling = return_rolling.append(returns_OS_price.iloc[i,:])\n",
    "    MCR_SAA.append(MCR_calc(SAA_rolling,return_rolling))\n",
    "    MCR_TAA.append(MCR_calc(TAA_rolling,return_rolling))\n",
    "    MCR_real.append(MCR_calc(Real_rolling,return_rolling))\n",
    "    #print(MCR_SAA[-1])\n",
    "    MCR_SAA_final.append(MCR_SAA[-1].iloc[:,-1])\n",
    "    MCR_TAA_final.append(MCR_TAA[-1].iloc[:,-1])\n",
    "    MCR_real_final.append(MCR_real[-1].iloc[:,-1])\n",
    "    \n",
    "SAA_MCR = pd.DataFrame(MCR_SAA_final[:])\n",
    "TAA_MCR = pd.DataFrame(MCR_TAA_final[:])\n",
    "real_MCR = pd.DataFrame(MCR_real_final[:])"
   ]
  },
  {
   "cell_type": "code",
   "execution_count": 86,
   "metadata": {},
   "outputs": [
    {
     "output_type": "execute_result",
     "data": {
      "text/plain": [
       "                   0         1         2         3         4         5  \\\n",
       "2011-01-31 -0.049001  0.003644 -0.002335 -0.020048  0.000907 -0.020199   \n",
       "2011-02-28 -0.048889  0.003645 -0.002330 -0.019966  0.000674 -0.020027   \n",
       "2011-03-31 -0.048703  0.003623 -0.002327 -0.019887  0.000673 -0.019851   \n",
       "2011-04-29 -0.048626  0.003587 -0.002370 -0.019817  0.000301 -0.020036   \n",
       "2011-05-31 -0.048485  0.003592 -0.002321 -0.019724  0.000164 -0.020245   \n",
       "...              ...       ...       ...       ...       ...       ...   \n",
       "2020-12-31 -0.044592  0.003438 -0.002794 -0.017455  0.002136 -0.029934   \n",
       "2021-01-29 -0.044503  0.003428 -0.002793 -0.017419  0.002122 -0.029854   \n",
       "2021-02-26 -0.044412  0.003497 -0.002687 -0.017341  0.002390 -0.030325   \n",
       "2021-03-31 -0.044352  0.003503 -0.002614 -0.017266  0.002459 -0.030123   \n",
       "2021-04-30 -0.044338  0.003501 -0.002630 -0.017222  0.002353 -0.030283   \n",
       "\n",
       "                   6  \n",
       "2011-01-31 -0.040097  \n",
       "2011-02-28 -0.039949  \n",
       "2011-03-31 -0.039844  \n",
       "2011-04-29 -0.039558  \n",
       "2011-05-31 -0.039507  \n",
       "...              ...  \n",
       "2020-12-31 -0.032105  \n",
       "2021-01-29 -0.032039  \n",
       "2021-02-26 -0.032278  \n",
       "2021-03-31 -0.032075  \n",
       "2021-04-30 -0.032247  \n",
       "\n",
       "[124 rows x 7 columns]"
      ],
      "text/html": "<div>\n<style scoped>\n    .dataframe tbody tr th:only-of-type {\n        vertical-align: middle;\n    }\n\n    .dataframe tbody tr th {\n        vertical-align: top;\n    }\n\n    .dataframe thead th {\n        text-align: right;\n    }\n</style>\n<table border=\"1\" class=\"dataframe\">\n  <thead>\n    <tr style=\"text-align: right;\">\n      <th></th>\n      <th>0</th>\n      <th>1</th>\n      <th>2</th>\n      <th>3</th>\n      <th>4</th>\n      <th>5</th>\n      <th>6</th>\n    </tr>\n  </thead>\n  <tbody>\n    <tr>\n      <th>2011-01-31</th>\n      <td>-0.049001</td>\n      <td>0.003644</td>\n      <td>-0.002335</td>\n      <td>-0.020048</td>\n      <td>0.000907</td>\n      <td>-0.020199</td>\n      <td>-0.040097</td>\n    </tr>\n    <tr>\n      <th>2011-02-28</th>\n      <td>-0.048889</td>\n      <td>0.003645</td>\n      <td>-0.002330</td>\n      <td>-0.019966</td>\n      <td>0.000674</td>\n      <td>-0.020027</td>\n      <td>-0.039949</td>\n    </tr>\n    <tr>\n      <th>2011-03-31</th>\n      <td>-0.048703</td>\n      <td>0.003623</td>\n      <td>-0.002327</td>\n      <td>-0.019887</td>\n      <td>0.000673</td>\n      <td>-0.019851</td>\n      <td>-0.039844</td>\n    </tr>\n    <tr>\n      <th>2011-04-29</th>\n      <td>-0.048626</td>\n      <td>0.003587</td>\n      <td>-0.002370</td>\n      <td>-0.019817</td>\n      <td>0.000301</td>\n      <td>-0.020036</td>\n      <td>-0.039558</td>\n    </tr>\n    <tr>\n      <th>2011-05-31</th>\n      <td>-0.048485</td>\n      <td>0.003592</td>\n      <td>-0.002321</td>\n      <td>-0.019724</td>\n      <td>0.000164</td>\n      <td>-0.020245</td>\n      <td>-0.039507</td>\n    </tr>\n    <tr>\n      <th>...</th>\n      <td>...</td>\n      <td>...</td>\n      <td>...</td>\n      <td>...</td>\n      <td>...</td>\n      <td>...</td>\n      <td>...</td>\n    </tr>\n    <tr>\n      <th>2020-12-31</th>\n      <td>-0.044592</td>\n      <td>0.003438</td>\n      <td>-0.002794</td>\n      <td>-0.017455</td>\n      <td>0.002136</td>\n      <td>-0.029934</td>\n      <td>-0.032105</td>\n    </tr>\n    <tr>\n      <th>2021-01-29</th>\n      <td>-0.044503</td>\n      <td>0.003428</td>\n      <td>-0.002793</td>\n      <td>-0.017419</td>\n      <td>0.002122</td>\n      <td>-0.029854</td>\n      <td>-0.032039</td>\n    </tr>\n    <tr>\n      <th>2021-02-26</th>\n      <td>-0.044412</td>\n      <td>0.003497</td>\n      <td>-0.002687</td>\n      <td>-0.017341</td>\n      <td>0.002390</td>\n      <td>-0.030325</td>\n      <td>-0.032278</td>\n    </tr>\n    <tr>\n      <th>2021-03-31</th>\n      <td>-0.044352</td>\n      <td>0.003503</td>\n      <td>-0.002614</td>\n      <td>-0.017266</td>\n      <td>0.002459</td>\n      <td>-0.030123</td>\n      <td>-0.032075</td>\n    </tr>\n    <tr>\n      <th>2021-04-30</th>\n      <td>-0.044338</td>\n      <td>0.003501</td>\n      <td>-0.002630</td>\n      <td>-0.017222</td>\n      <td>0.002353</td>\n      <td>-0.030283</td>\n      <td>-0.032247</td>\n    </tr>\n  </tbody>\n</table>\n<p>124 rows × 7 columns</p>\n</div>"
     },
     "metadata": {},
     "execution_count": 86
    }
   ],
   "source": [
    "SAA_MCR = pd.DataFrame(MCR_SAA_final[:])\n",
    "SAA_MCR"
   ]
  },
  {
   "source": [
    "# Question 2"
   ],
   "cell_type": "markdown",
   "metadata": {}
  },
  {
   "source": [
    "## Variance Covariance method"
   ],
   "cell_type": "markdown",
   "metadata": {}
  },
  {
   "source": [
    "## VaR"
   ],
   "cell_type": "markdown",
   "metadata": {}
  },
  {
   "cell_type": "code",
   "execution_count": 45,
   "metadata": {},
   "outputs": [],
   "source": [
    "ptf_return_SAA = np.multiply(SAA_active_weight_OS,returns_OS_price).sum(axis=1)\n",
    "mean_SAA = np.mean(ptf_return_SAA)\n",
    "std_SAA = np.std(ptf_return_SAA)\n",
    "\n",
    "ptf_return_TAA = np.multiply(TAA_active_weight_OS,returns_OS_price).sum(axis=1)\n",
    "mean_TAA = np.mean(ptf_return_TAA)\n",
    "std_TAA = np.std(ptf_return_TAA)\n",
    "\n",
    "ptf_return_Real = np.multiply(active_weight_target_OS,returns_OS_price).sum(axis=1)\n",
    "mean_Real = np.mean(ptf_return_Real)\n",
    "std_Real = np.std(ptf_return_Real)"
   ]
  },
  {
   "cell_type": "code",
   "execution_count": 47,
   "metadata": {},
   "outputs": [
    {
     "output_type": "stream",
     "name": "stdout",
     "text": [
      "VaR 95% SAA: -0.03292615618768459\nVaR 95% TAA: -0.06868917746927439\nVaR 95% Real: -0.06523311983250694\n"
     ]
    }
   ],
   "source": [
    "VaR_95_SAA = norm.ppf(1-0.95,mean_SAA,std_SAA)\n",
    "print(f'VaR 95% SAA: {VaR_95_SAA}')\n",
    "\n",
    "VaR_95_TAA = norm.ppf(1-0.95,mean_TAA,std_TAA)\n",
    "print(f'VaR 95% TAA: {VaR_95_TAA}')\n",
    "\n",
    "VaR_95_Real = norm.ppf(1-0.95,mean_Real,std_Real)\n",
    "print(f'VaR 95% Real: {VaR_95_Real}')"
   ]
  },
  {
   "source": [
    "## Historical method"
   ],
   "cell_type": "markdown",
   "metadata": {}
  },
  {
   "source": [
    "### VaR"
   ],
   "cell_type": "markdown",
   "metadata": {}
  },
  {
   "cell_type": "code",
   "execution_count": 54,
   "metadata": {},
   "outputs": [
    {
     "output_type": "stream",
     "name": "stdout",
     "text": [
      "VaR SAA 5%: -0.027072011521389647\nVaR TAA 5%: -0.05694802610459951\nVaR Real 5%: -0.056638707509634775\n"
     ]
    }
   ],
   "source": [
    "ptf_return_SAA_sort = ptf_return_SAA.sort_values(ascending=True)\n",
    "ptf_return_TAA_sort = ptf_return_TAA.sort_values(ascending=True)\n",
    "ptf_return_Real_sort = ptf_return_Real.sort_values(ascending=True)\n",
    "\n",
    "\n",
    "print(f'VaR SAA 5%: {ptf_return_SAA_sort.quantile(0.05)}')\n",
    "print(f'VaR TAA 5%: {ptf_return_TAA_sort.quantile(0.05)}')\n",
    "print(f'VaR Real 5%: {ptf_return_Real_sort.quantile(0.05)}')"
   ]
  },
  {
   "cell_type": "code",
   "execution_count": 93,
   "metadata": {},
   "outputs": [
    {
     "output_type": "stream",
     "name": "stdout",
     "text": [
      "ES SAA hist 5%: -0.03757842294207015\nES TAA hist 5%: -0.07091502938402984\nES Real hist 5%: -0.06817750539266482\n"
     ]
    }
   ],
   "source": [
    "#https://s3.amazonaws.com/assets.datacamp.com/production/course_5612/slides/chapter4.pdf\n",
    "\n",
    "ES_SAA_hist = ptf_return_SAA_sort[ptf_return_SAA_sort <= np.quantile(ptf_return_SAA_sort,0.05)].mean()\n",
    "ES_TAA_hist = ptf_return_TAA_sort[ptf_return_TAA_sort <= np.quantile(ptf_return_TAA_sort,0.05)].mean()\n",
    "ES_Real_hist = ptf_return_Real_sort[ptf_return_Real_sort <= np.quantile(ptf_return_Real_sort,0.05)].mean()\n",
    "\n",
    "print(f'ES SAA hist 5%: {ES_SAA_hist}')\n",
    "print(f'ES TAA hist 5%: {ES_TAA_hist}')\n",
    "print(f'ES Real hist 5%: {ES_Real_hist}')"
   ]
  },
  {
   "cell_type": "code",
   "execution_count": null,
   "metadata": {},
   "outputs": [],
   "source": []
  }
 ]
}