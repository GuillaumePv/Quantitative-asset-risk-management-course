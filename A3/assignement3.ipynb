{
 "metadata": {
  "language_info": {
   "codemirror_mode": {
    "name": "ipython",
    "version": 3
   },
   "file_extension": ".py",
   "mimetype": "text/x-python",
   "name": "python",
   "nbconvert_exporter": "python",
   "pygments_lexer": "ipython3",
   "version": "3.8.1"
  },
  "orig_nbformat": 2,
  "kernelspec": {
   "name": "python381jvsc74a57bd0082e9a3bcad0a290d0001e938aa60b99250c6c2ef33a923c00b70f9826caf4b7",
   "display_name": "Python 3.8.1 64-bit ('3.8')"
  },
  "metadata": {
   "interpreter": {
    "hash": "082e9a3bcad0a290d0001e938aa60b99250c6c2ef33a923c00b70f9826caf4b7"
   }
  }
 },
 "nbformat": 4,
 "nbformat_minor": 2,
 "cells": [
  {
   "cell_type": "code",
   "execution_count": 37,
   "metadata": {
    "tags": []
   },
   "outputs": [],
   "source": [
    "from Assignment3_part1 import *\n",
    "from tqdm import tqdm\n",
    "from scipy.stats import norm"
   ]
  },
  {
   "source": [
    "## Variables qui nous intéressent\n",
    "\n",
    "* SAA_weights_IS\n",
    "* SAA_weights_OS\n",
    "* TAA_weights_IS\n",
    "* TAA_weights_OS\n",
    "* weight_target_IS\n",
    "* weight_target_OS\n",
    "* benchmark_weights_IS\n",
    "* benchmark_weights_OS\n",
    "\n",
    "### Benchmark (50% Equities / 50% Bond)\n",
    "\n",
    "### Return\n",
    "\n",
    "* returns_IS_price\n",
    "* returns_OS_price"
   ],
   "cell_type": "markdown",
   "metadata": {}
  },
  {
   "cell_type": "code",
   "execution_count": 19,
   "metadata": {},
   "outputs": [],
   "source": [
    "# SAA\n",
    "SAA_active_weight_IS = SAA_weights_IS - benchmark_weights_IS\n",
    "SAA_active_weight_OS = SAA_weights_OS - benchmark_weights_OS\n",
    "\n",
    "# TAA\n",
    "TAA_active_weight_IS = TAA_weights_IS - benchmark_weights_IS\n",
    "TAA_active_weight_OS = TAA_weights_OS - benchmark_weights_OS\n",
    "\n",
    "# Real portfolio\n",
    "active_weight_target_IS = weight_target_IS - benchmark_weights_IS\n",
    "active_weight_target_OS = weight_target_OS - benchmark_weights_OS"
   ]
  },
  {
   "source": [
    "# Question 1"
   ],
   "cell_type": "markdown",
   "metadata": {}
  },
  {
   "cell_type": "code",
   "execution_count": 31,
   "metadata": {},
   "outputs": [],
   "source": [
    "MCR_SAA_active_IS = MCR_calc(SAA_active_weight_IS,returns_IS_price)\n",
    "\n",
    "MCR_TAA_active_IS = MCR_calc(TAA_active_weight_IS,returns_IS_price)\n",
    "\n",
    "MCR_real_IS = MCR_calc(active_weight_target_IS,returns_IS_price)"
   ]
  },
  {
   "cell_type": "code",
   "execution_count": 32,
   "metadata": {},
   "outputs": [
    {
     "output_type": "stream",
     "name": "stderr",
     "text": [
      "100%|██████████| 124/124 [00:03<00:00, 40.63it/s]\n"
     ]
    }
   ],
   "source": [
    "# SAA\n",
    "MCR_SAA = [MCR_SAA_active_IS]\n",
    "MCR_TAA = [MCR_TAA_active_IS]\n",
    "MCR_real = [MCR_real_IS]\n",
    "\n",
    "SAA_rolling = SAA_active_weight_IS.copy()\n",
    "TAA_rolling = TAA_active_weight_IS.copy()\n",
    "Real_rolling = weight_target_IS.copy()\n",
    "return_rolling = returns_IS_price.copy()\n",
    "for i in tqdm(range(len(SAA_active_weight_OS))):\n",
    "    SAA_rolling = SAA_rolling.append(SAA_active_weight_OS.iloc[i,:])\n",
    "    TAA_rolling = TAA_rolling.append(TAA_active_weight_OS.iloc[i,:])\n",
    "    Real_rolling = Real_rolling.append(active_weight_target_OS.iloc[i,:])\n",
    "\n",
    "    return_rolling = return_rolling.append(returns_OS_price.iloc[i,:])\n",
    "    MCR_SAA.append(MCR_calc(SAA_rolling,return_rolling))\n",
    "    MCR_TAA.append(MCR_calc(TAA_rolling,return_rolling))\n",
    "    MCR_real.append(MCR_calc(Real_rolling,return_rolling))\n"
   ]
  },
  {
   "source": [
    "# Question 2"
   ],
   "cell_type": "markdown",
   "metadata": {}
  },
  {
   "source": [
    "## Variance Covariance method"
   ],
   "cell_type": "markdown",
   "metadata": {}
  },
  {
   "source": [
    "## VaR"
   ],
   "cell_type": "markdown",
   "metadata": {}
  },
  {
   "cell_type": "code",
   "execution_count": 45,
   "metadata": {},
   "outputs": [],
   "source": [
    "ptf_return_SAA = np.multiply(SAA_active_weight_OS,returns_OS_price).sum(axis=1)\n",
    "mean_SAA = np.mean(ptf_return_SAA)\n",
    "std_SAA = np.std(ptf_return_SAA)\n",
    "\n",
    "ptf_return_TAA = np.multiply(TAA_active_weight_OS,returns_OS_price).sum(axis=1)\n",
    "mean_TAA = np.mean(ptf_return_TAA)\n",
    "std_TAA = np.std(ptf_return_TAA)\n",
    "\n",
    "ptf_return_Real = np.multiply(active_weight_target_OS,returns_OS_price).sum(axis=1)\n",
    "mean_Real = np.mean(ptf_return_Real)\n",
    "std_Real = np.std(ptf_return_Real)"
   ]
  },
  {
   "cell_type": "code",
   "execution_count": 47,
   "metadata": {},
   "outputs": [
    {
     "output_type": "stream",
     "name": "stdout",
     "text": [
      "VaR 95% SAA: -0.03292615618768459\nVaR 95% TAA: -0.06868917746927439\nVaR 95% Real: -0.06523311983250694\n"
     ]
    }
   ],
   "source": [
    "VaR_95_SAA = norm.ppf(1-0.95,mean_SAA,std_SAA)\n",
    "print(f'VaR 95% SAA: {VaR_95_SAA}')\n",
    "\n",
    "VaR_95_TAA = norm.ppf(1-0.95,mean_TAA,std_TAA)\n",
    "print(f'VaR 95% TAA: {VaR_95_TAA}')\n",
    "\n",
    "VaR_95_Real = norm.ppf(1-0.95,mean_Real,std_Real)\n",
    "print(f'VaR 95% Real: {VaR_95_Real}')"
   ]
  },
  {
   "source": [
    "## Historical method"
   ],
   "cell_type": "markdown",
   "metadata": {}
  },
  {
   "cell_type": "code",
   "execution_count": 54,
   "metadata": {},
   "outputs": [
    {
     "output_type": "stream",
     "name": "stdout",
     "text": [
      "VaR SAA 5%: -0.027072011521389647\nVaR TAA 5%: -0.05694802610459951\nVaR Real 5%: -0.056638707509634775\n"
     ]
    }
   ],
   "source": [
    "ptf_return_SAA_sort = ptf_return_SAA.sort_values(ascending=True)\n",
    "ptf_return_TAA_sort = ptf_return_TAA.sort_values(ascending=True)\n",
    "ptf_return_Real_sort = ptf_return_Real.sort_values(ascending=True)\n",
    "\n",
    "print(f'VaR SAA 5%: {ptf_return_SAA_sort.quantile(0.05)}')\n",
    "print(f'VaR TAA 5%: {ptf_return_TAA_sort.quantile(0.05)}')\n",
    "print(f'VaR Real 5%: {ptf_return_Real_sort.quantile(0.05)}')"
   ]
  },
  {
   "cell_type": "code",
   "execution_count": null,
   "metadata": {},
   "outputs": [],
   "source": []
  }
 ]
}